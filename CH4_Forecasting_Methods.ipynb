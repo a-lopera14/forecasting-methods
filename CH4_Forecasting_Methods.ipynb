{
  "nbformat": 4,
  "nbformat_minor": 0,
  "metadata": {
    "colab": {
      "provenance": [],
      "include_colab_link": true
    },
    "kernelspec": {
      "name": "python3",
      "display_name": "Python 3"
    },
    "language_info": {
      "name": "python"
    }
  },
  "cells": [
    {
      "cell_type": "markdown",
      "metadata": {
        "id": "view-in-github",
        "colab_type": "text"
      },
      "source": [
        "<a href=\"https://colab.research.google.com/github/a-lopera14/forecasting-methods/blob/main/CH4_Forecasting_Methods.ipynb\" target=\"_parent\"><img src=\"https://colab.research.google.com/assets/colab-badge.svg\" alt=\"Open In Colab\"/></a>"
      ]
    },
    {
      "cell_type": "markdown",
      "source": [
        "# Chapter 4: Forecasting\n",
        "\n"
      ],
      "metadata": {
        "id": "8ZaTPlYDJhEL"
      }
    },
    {
      "cell_type": "markdown",
      "source": [
        "### Importing Libraries"
      ],
      "metadata": {
        "id": "tIBHQ_1UlIzG"
      }
    },
    {
      "cell_type": "code",
      "source": [
        "# We import the necessary libraries\n",
        "import numpy as np\n",
        "from sklearn.linear_model import LinearRegression\n",
        "import matplotlib.pyplot as plt"
      ],
      "metadata": {
        "id": "xVxIGgCEYAX1"
      },
      "execution_count": null,
      "outputs": []
    },
    {
      "cell_type": "markdown",
      "source": [
        "### Defining Naive Method\n",
        "\n",
        "The simplest forecasting method. It assumes that the demand in the next period will be the same as the demand in the most recent period.\n",
        "\n"
      ],
      "metadata": {
        "id": "Fm_u8eeMlZzj"
      }
    },
    {
      "cell_type": "code",
      "source": [
        "#Here we define the naive method\n",
        "def naive_method(data):\n",
        "  forecasting = []        # Empty list made for Forecasting\n",
        "  length_data = len(data) # Figuring out how many historical data points we have\n",
        "  for i in range(length_data + 1):\n",
        "    if i == 0:            #Logical test in Python (==) : Assign (=)\n",
        "      forecasting.append(\"N/A\")\n",
        "    else:\n",
        "      forecasting.append(data[i-1])\n",
        "\n",
        "  return forecasting"
      ],
      "metadata": {
        "id": "YdR0nsQuXves"
      },
      "execution_count": null,
      "outputs": []
    },
    {
      "cell_type": "markdown",
      "source": [
        "### Defining Moving Average\n",
        "\n",
        "This method looks at the average demand over a certain number of past periods and uses it to predict the next period. It smooths out random fluctuations."
      ],
      "metadata": {
        "id": "xoL3euswlivX"
      }
    },
    {
      "cell_type": "code",
      "source": [
        "#Here we define the Moving Average\n",
        "def moving_average(data, order):\n",
        "  forecasting = []\n",
        "  length_data = len(data)     # Figuring out how many historical data points we have\n",
        "  for i in range(length_data + 1):\n",
        "    if i <= order-1:\n",
        "      forecasting.append(\"N/A\")\n",
        "    else:\n",
        "      previous_data = data[i-order: i]\n",
        "      avg = sum(previous_data)/order\n",
        "      forecasting.append(avg)\n",
        "\n",
        "  return forecasting"
      ],
      "metadata": {
        "id": "eyaFFOT3X-EM"
      },
      "execution_count": null,
      "outputs": []
    },
    {
      "cell_type": "markdown",
      "source": [
        "### Defining Weighted Moving Average\n",
        "\n",
        "Similar to the moving average, but gives more importance (weight) to recent periods, since they are usually better indicators of what will happen next.\n",
        "\n"
      ],
      "metadata": {
        "id": "YN1SdimglpIF"
      }
    },
    {
      "cell_type": "code",
      "source": [
        "#Here we define the Weighted Moving Average\n",
        "def weighted_moving_average(data, weights, order):\n",
        "  forecasting = []\n",
        "  length_data = len(data)              # Figuring out how many historical data points we have\n",
        "  for i in range(length_data + 1):\n",
        "    if i <= order-1:\n",
        "      forecasting.append(\"N/A\")\n",
        "    else:\n",
        "      previous_data = data[i-order: i] # Here we truncate the data.\n",
        "      sum_weights = sum(weights)\n",
        "      wma = np.dot(previous_data, weights)/sum_weights\n",
        "      forecasting.append(wma)\n",
        "\n",
        "  return forecasting"
      ],
      "metadata": {
        "id": "1hHq_Ap2YNIt"
      },
      "execution_count": null,
      "outputs": []
    },
    {
      "cell_type": "markdown",
      "source": [
        "### Defining Exponential Smoothing\n",
        "\n",
        "A forecasting method that applies a weight to past data, with the most recent data given the most weight. It’s like a weighted moving average, but the weights decrease gradually over time."
      ],
      "metadata": {
        "id": "UB4TtIt-lyqj"
      }
    },
    {
      "cell_type": "code",
      "source": [
        "# Here we define Exponential Smoothing\n",
        "def exponential_smoothing(data, alpha, initial_forecast):\n",
        "  forecasting = [initial_forecast]\n",
        "  length_data = len(data)         # Figuring out how many historical data points we have\n",
        "  for i in range(length_data+1):\n",
        "    if i>0:\n",
        "      es = alpha*data[i-1] + (1-alpha)*forecasting[i-1]\n",
        "      forecasting.append(es)\n",
        "\n",
        "  return forecasting"
      ],
      "metadata": {
        "id": "Aj_L1txMYQ6K"
      },
      "execution_count": null,
      "outputs": []
    },
    {
      "cell_type": "markdown",
      "source": [
        "### Defining Exponential Smoothing with trend\n",
        "\n",
        "An improved version of exponential smoothing that not only accounts for past data but also captures trends (whether demand is going up or down over time)."
      ],
      "metadata": {
        "id": "hMAtZUlml41r"
      }
    },
    {
      "cell_type": "code",
      "source": [
        "# Here we define Exponential Smoothing with trend\n",
        "def ES_with_trend(data, alpha, beta, initial_level, initial_trend):\n",
        "  forecasting_F = [initial_level]\n",
        "  forecasting_T = [initial_trend]\n",
        "  forecasting_FIT = [initial_level + initial_trend]\n",
        "  length_data = len(data) # Figuring out how many historical data points we have\n",
        "  for i in range(length_data+1):\n",
        "    if i>0:\n",
        "      new_F = alpha*data[i-1] + (1-alpha)*forecasting_FIT[i-1]\n",
        "      forecasting_F.append(new_F)\n",
        "      new_T = beta*(new_F-forecasting_F[i-1]) + (1-beta)*forecasting_T[i-1]\n",
        "      forecasting_T.append(new_T)\n",
        "      new_FIT = new_F + new_T\n",
        "      forecasting_FIT.append(new_FIT)\n",
        "\n",
        "  return forecasting_F, forecasting_T, forecasting_FIT"
      ],
      "metadata": {
        "id": "YX4LnliiQYos"
      },
      "execution_count": null,
      "outputs": []
    },
    {
      "cell_type": "markdown",
      "source": [
        "### Defining Linear Regression\n",
        "\n",
        "A statistical method that fits a straight line through past data points to predict future demand. It can capture both trends and relationships between variables."
      ],
      "metadata": {
        "id": "nn0VtzA3mArX"
      }
    },
    {
      "cell_type": "code",
      "source": [
        "# Here we define Linear Regression\n",
        "def Linear_Regression(x, y):\n",
        "  model = LinearRegression()\n",
        "  length_y = len(y)\n",
        "  x_trun = x[0:length_y]\n",
        "  x_trun = np.array(x_trun).reshape(-1, 1)\n",
        "  model.fit(x_trun, y)\n",
        "\n",
        "  a = model.intercept_\n",
        "  b = model.coef_[0]\n",
        "\n",
        "  n = len(x)\n",
        "  forecasts = []\n",
        "  for i in range(n):\n",
        "    forecasts.append(a+b*x[i])\n",
        "\n",
        "  return forecasts, a, b"
      ],
      "metadata": {
        "id": "Enw5Kt2_J2SD"
      },
      "execution_count": null,
      "outputs": []
    },
    {
      "cell_type": "markdown",
      "source": [
        "### Defining Mean Absolute Deviation (MAD)\n",
        "\n",
        "A way to measure how accurate a forecast is. It tells you, on average, how far the forecasted values are from the actual demand."
      ],
      "metadata": {
        "id": "Q3l_urh0pwsk"
      }
    },
    {
      "cell_type": "code",
      "source": [
        "#Here we define MAD\n",
        "def MAD(data, forecasts):\n",
        "  MAD = 0.0\n",
        "  n = 0\n",
        "  for i in range(len(data)):\n",
        "    if forecasts[i] != \"N/A\": # != is not equal to\n",
        "      MAD += abs(data[i]-forecasts[i])\n",
        "      n += 1\n",
        "\n",
        "  MAD /= n\n",
        "  return MAD"
      ],
      "metadata": {
        "id": "fLoHWQwi2LK0"
      },
      "execution_count": null,
      "outputs": []
    },
    {
      "cell_type": "markdown",
      "source": [
        "### Defining Mean Square Error (MSE)\n",
        "\n",
        "Another accuracy measure. It takes the differences between forecasted and actual values, squares them, and averages them. Larger errors have a bigger impact because of the squaring."
      ],
      "metadata": {
        "id": "bSXQ-Tsnp2Ct"
      }
    },
    {
      "cell_type": "code",
      "source": [
        "# We define MSE\n",
        "def MSE(data, forecasts):\n",
        "  MAD = 0.0\n",
        "  n = 0\n",
        "  for i in range(len(data)):\n",
        "    if forecasts[i] != \"N/A\": # != is not equal to\n",
        "      MAD += (data[i]-forecasts[i])**2\n",
        "      n += 1\n",
        "\n",
        "  MAD /= n\n",
        "  return MAD"
      ],
      "metadata": {
        "id": "6vXJLyjAMszV"
      },
      "execution_count": null,
      "outputs": []
    },
    {
      "cell_type": "markdown",
      "source": [
        "### Defining Mean Absolute Percent Error (MAPE)\n",
        "\n",
        "A percentage-based accuracy measure. It shows the average size of forecast errors as a percentage of actual demand, making it easy to compare across different data sets."
      ],
      "metadata": {
        "id": "Vb87tzzHp5jW"
      }
    },
    {
      "cell_type": "code",
      "source": [
        "# We define MAPE\n",
        "def MAPE(data, forecasts):\n",
        "  MAPE = 0.0\n",
        "  n = 0\n",
        "  for i in range(len(data)):\n",
        "    if forecasts[i] != \"N/A\": # != is not equal to\n",
        "      MAPE += abs(data[i]-forecasts[i])/data[i]\n",
        "      n += 1\n",
        "\n",
        "  MAPE /= n\n",
        "  return MAPE"
      ],
      "metadata": {
        "id": "lFWx5eE7NJSM"
      },
      "execution_count": null,
      "outputs": []
    },
    {
      "cell_type": "markdown",
      "source": [
        "# Data and Inputs/Outputs specifically for MAD, MSE, MAPE\n",
        "## Using given data and forecasts\n",
        "\n",
        "If you already have actual data and forecasted values (but don’t know which method was used), just put the actual numbers into 'data' and the forecasted numbers into 'forecasts'.\n",
        "The code below will then calculate MAD, MSE, and MAPE for you.\n"
      ],
      "metadata": {
        "id": "paq4RGRPY5sJ"
      }
    },
    {
      "cell_type": "code",
      "source": [
        "data = [.7, 1, 1, 1] ; forecasts = [.8, 1.2, .9, 1.11]\n",
        "print(f\"The MAD for this method is: {MAD(data, forecasts):.3f}\")\n",
        "print(f\"The MSE for this method is: {MSE(data, forecasts):.3f}\")\n",
        "print(f\"The MAPE for this method is: {MAPE(data, forecasts)*100:.2f}%\")"
      ],
      "metadata": {
        "id": "O_Dz3mFWMCCC"
      },
      "execution_count": null,
      "outputs": []
    },
    {
      "cell_type": "markdown",
      "source": [
        "# Data for Methods/Regression\n",
        "Plug the data in here if the question asks for a specific method and run all the notebook in order for it to update.\n",
        "Note: In Linear Regression models, you should match the length of your data with dummy numbers if a prediction is given, otherwise simply state x= [1, 2, 3, 4, 5, 6, 7, 8, 9] with the corresponding length of your data."
      ],
      "metadata": {
        "id": "ti3HWKWJbHqZ"
      }
    },
    {
      "cell_type": "code",
      "source": [
        "#We insert the values in the 'data' list\n",
        "#This is simply example data. Insert actual values if needed\n",
        "data = [560, 680, 960, 720, 960, 880, 1200, 1080, 1520]"
      ],
      "metadata": {
        "id": "JlU8kopRZD3_"
      },
      "execution_count": null,
      "outputs": []
    },
    {
      "cell_type": "markdown",
      "source": [
        "# Output"
      ],
      "metadata": {
        "id": "Ra4tD0oTbPtA"
      }
    },
    {
      "cell_type": "markdown",
      "source": [
        "### Naive Method Output"
      ],
      "metadata": {
        "id": "MG9PxyYBru0j"
      }
    },
    {
      "cell_type": "code",
      "source": [
        "# Utilize the Naive method\n",
        "forecasting_naive = naive_method(data)\n",
        "\n",
        "print(forecasting_naive)\n",
        "\n",
        "for i in range(len(data)+1):\n",
        "  print(f\"Forecasting based on Naive Method for period {i+1} is {forecasting_naive[i]}\")\n"
      ],
      "metadata": {
        "id": "Hdg6_GMzZLta"
      },
      "execution_count": null,
      "outputs": []
    },
    {
      "cell_type": "markdown",
      "source": [
        "### Moving Average Method Output"
      ],
      "metadata": {
        "id": "v9aTcbV7rzC6"
      }
    },
    {
      "cell_type": "code",
      "source": [
        "# Utilize Moving average method to find the forecasts.\n",
        "order = 3 #What is the order of the range of the moving average?\n",
        "forecasting_MA = moving_average(data, order)\n",
        "print(f\"The forecast utilizing Moving Average method is: {forecasting_MA}\")\n",
        "print(f\"The MAD of this forecasting model is: {MAD(data, forecasting_MA):.2f}\")\n",
        "\n",
        "for i in range(len(data)+1):\n",
        "  if forecasting_MA[i] != \"N/A\":\n",
        "    print(f\"Forecasting based on Moving Average for period {i+1} is {forecasting_MA[i]:.2f}\")"
      ],
      "metadata": {
        "id": "fVUNXU4kZcg9"
      },
      "execution_count": null,
      "outputs": []
    },
    {
      "cell_type": "markdown",
      "source": [
        "### Weighted Moving Average Method Output"
      ],
      "metadata": {
        "id": "OJP4h-lRsBwH"
      }
    },
    {
      "cell_type": "code",
      "source": [
        "# Utilize Weighted Moving Average to find the forecasts\n",
        "order = 3\n",
        "weights = [.1, .35, .55]\n",
        "forecasting_WMA = weighted_moving_average(data, weights, order)\n",
        "print(f\"The forecast utilizing Weighted Moving Average method is: {forecasting_WMA}\")\n",
        "\n",
        "for i in range(len(data)+1):\n",
        "  if forecasting_WMA[i] != \"N/A\":\n",
        "    print(f\"Forecasting based on Weighted Moving Average for period {i+1} is {forecasting_WMA[i]:.2f}\")"
      ],
      "metadata": {
        "id": "Mjp17U8rZhVj"
      },
      "execution_count": null,
      "outputs": []
    },
    {
      "cell_type": "markdown",
      "source": [
        "### Exponential Smoothing Method Output"
      ],
      "metadata": {
        "id": "fQ-_SbddsGjE"
      }
    },
    {
      "cell_type": "code",
      "source": [
        "# Utilize Exponential Smoothing to forecast\n",
        "alpha = 0.3\n",
        "initial_forecast = 560\n",
        "forecasting_ES = exponential_smoothing(data, alpha, initial_forecast)\n",
        "print(f\"The forecast utilizing Exponential Smoothing method is: {forecasting_ES}\")\n",
        "print(f\"The MAD of this forecasting model is: {MAD(data, forecasting_ES)}\")\n",
        "print(f\"The MAPE of this forecasting model is: {MAPE(data, forecasting_ES)*100:.2f}%\")\n",
        "\n",
        "for i in range(len(data)+1):\n",
        "  if forecasting_ES[i] != \"N/A\":\n",
        "    print(f\"Forecasting based on Exponential Smoothing for period {i+1} is {forecasting_ES[i]:.2f}\")"
      ],
      "metadata": {
        "id": "7NEf3CyfZlHL"
      },
      "execution_count": null,
      "outputs": []
    },
    {
      "cell_type": "markdown",
      "source": [
        "### Exponential Smoothing With Trend Method Output"
      ],
      "metadata": {
        "id": "PODuphd4sKeV"
      }
    },
    {
      "cell_type": "code",
      "source": [
        "# Utilize Exponential Smoothing With trend to forecast\n",
        "alpha = 0.3; beta = 0.2;\n",
        "initial_F= 560; initial_T = 4.0\n",
        "forecasting_F, forecasting_T, forecasting_FIT = ES_with_trend(data, alpha, beta, initial_F, initial_T)\n",
        "print(f\"The MAD of this forecasting model is: {MAD(data, forecasting_FIT):.2f}\")\n",
        "print(f\"The MAPE of this forecasting model is: {MAPE(data, forecasting_FIT)*100:.2f}%\")\n",
        "\n",
        "for i in range(len(data)+1):\n",
        "  if forecasting_FIT[i] != \"N/A\":\n",
        "    print(f\"F_{i+1} Forecasting based on Exponential Smoothing with Trend method for period is {forecasting_F[i]:.2f}\")\n",
        "    print(f\"T_{i+1} Forecasting based on Exponential Smoothing with Trend method for period is {forecasting_T[i]:.2f}\")\n",
        "    print(f\"FIT_{i+1} Forecasting based on Exponential Smoothing with Trend method for period is {forecasting_FIT[i]:.2f}\")"
      ],
      "metadata": {
        "id": "NI5aVg1cS4wy"
      },
      "execution_count": null,
      "outputs": []
    },
    {
      "cell_type": "markdown",
      "source": [
        "### Linear Regression Output"
      ],
      "metadata": {
        "id": "L9kHMIHcsTT7"
      }
    },
    {
      "cell_type": "code",
      "source": [
        "# Utilize Linear Regression model to forecast\n",
        "y = data; length_data = len(data); x= [1, 2, 3, 4, 5, 6, 7, 8, 9] #Note: You must manually change the x values\n",
        "\n",
        "forecasting_LR, intercept, slope = Linear_Regression(x, y)\n",
        "\n",
        "print(f\"The MAD of this forecasting model is: {MAD(data, forecasting_LR):.1f}\")\n",
        "print(f\"The MSE of this forecasting model is: {MSE(data, forecasting_LR):.1f}\")\n",
        "print(f\"The MAPE of this forecasting model is: {MAPE(data, forecasting_LR)*100:.2f}%\")\n",
        "\n",
        "print(f\"The intercept of the linear regression model is: {intercept:.4f}\")\n",
        "print(f\"The slope of the linear regression model is {slope:.4f}\")\n",
        "\n",
        "for i in range(len(forecasting_LR)):\n",
        "  if forecasting_LR[i] != \"N/A\":\n",
        "        print(f\"Forecasting based on Linear Regression model for period {i+1} is {forecasting_LR[i]:.2f}\")\n",
        "\n"
      ],
      "metadata": {
        "id": "TJqfbUyIZoP-"
      },
      "execution_count": null,
      "outputs": []
    },
    {
      "cell_type": "markdown",
      "source": [
        "### Correlation Coefficient and R^2 for Linear Regression"
      ],
      "metadata": {
        "id": "mP2RGGLksfC3"
      }
    },
    {
      "cell_type": "code",
      "source": [
        "import numpy as np\n",
        "from sklearn.linear_model import LinearRegression\n",
        "\n",
        "# Example data\n",
        "x = [4, 4, 6, 7, 9, 7]\n",
        "y = [4, 6, 7, 4, 11, 8]\n",
        "\n",
        "# Reshape x for sklearn (expects 2D array for features)\n",
        "x = np.array(x).reshape(-1, 1)\n",
        "y = np.array(y)\n",
        "\n",
        "# Fit Linear Regression\n",
        "model = LinearRegression()\n",
        "model.fit(x, y)\n",
        "\n",
        "# Get slope and intercept\n",
        "slope = model.coef_[0]\n",
        "intercept = model.intercept_\n",
        "\n",
        "# Get R^2 score\n",
        "r2 = model.score(x, y)\n",
        "\n",
        "# Compute correlation coefficient (signed)\n",
        "corr_coef = np.sqrt(r2) if slope >= 0 else -np.sqrt(r2)\n",
        "\n",
        "print(f\"Correlation coefficient: {corr_coef:.4f}\")\n",
        "print(f\"R^2: {r2:.4f}\")\n"
      ],
      "metadata": {
        "id": "hInNn-i0UQ6W"
      },
      "execution_count": null,
      "outputs": []
    }
  ]
}